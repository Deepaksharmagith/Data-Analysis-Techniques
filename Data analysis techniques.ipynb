{
 "cells": [
  {
   "cell_type": "markdown",
   "id": "b175f01f",
   "metadata": {},
   "source": [
    "# Descriptive Analysis"
   ]
  },
  {
   "cell_type": "code",
   "execution_count": null,
   "id": "efccab29",
   "metadata": {},
   "outputs": [],
   "source": [
    "import pandas as pd"
   ]
  },
  {
   "cell_type": "code",
   "execution_count": 2,
   "id": "717d7055",
   "metadata": {},
   "outputs": [],
   "source": [
    "df=pd.read_csv('6.Marketing (1).csv')"
   ]
  },
  {
   "cell_type": "code",
   "execution_count": 3,
   "id": "ca93687a",
   "metadata": {},
   "outputs": [
    {
     "data": {
      "text/html": [
       "<div>\n",
       "<style scoped>\n",
       "    .dataframe tbody tr th:only-of-type {\n",
       "        vertical-align: middle;\n",
       "    }\n",
       "\n",
       "    .dataframe tbody tr th {\n",
       "        vertical-align: top;\n",
       "    }\n",
       "\n",
       "    .dataframe thead th {\n",
       "        text-align: right;\n",
       "    }\n",
       "</style>\n",
       "<table border=\"1\" class=\"dataframe\">\n",
       "  <thead>\n",
       "    <tr style=\"text-align: right;\">\n",
       "      <th></th>\n",
       "      <th>youtube</th>\n",
       "      <th>facebook</th>\n",
       "      <th>newspaper</th>\n",
       "      <th>sales</th>\n",
       "    </tr>\n",
       "  </thead>\n",
       "  <tbody>\n",
       "    <tr>\n",
       "      <th>0</th>\n",
       "      <td>84.72</td>\n",
       "      <td>19.20</td>\n",
       "      <td>48.96</td>\n",
       "      <td>12.60</td>\n",
       "    </tr>\n",
       "    <tr>\n",
       "      <th>1</th>\n",
       "      <td>351.48</td>\n",
       "      <td>33.96</td>\n",
       "      <td>51.84</td>\n",
       "      <td>25.68</td>\n",
       "    </tr>\n",
       "    <tr>\n",
       "      <th>2</th>\n",
       "      <td>135.48</td>\n",
       "      <td>20.88</td>\n",
       "      <td>46.32</td>\n",
       "      <td>14.28</td>\n",
       "    </tr>\n",
       "    <tr>\n",
       "      <th>3</th>\n",
       "      <td>116.64</td>\n",
       "      <td>1.80</td>\n",
       "      <td>36.00</td>\n",
       "      <td>11.52</td>\n",
       "    </tr>\n",
       "    <tr>\n",
       "      <th>4</th>\n",
       "      <td>318.72</td>\n",
       "      <td>24.00</td>\n",
       "      <td>0.36</td>\n",
       "      <td>20.88</td>\n",
       "    </tr>\n",
       "    <tr>\n",
       "      <th>...</th>\n",
       "      <td>...</td>\n",
       "      <td>...</td>\n",
       "      <td>...</td>\n",
       "      <td>...</td>\n",
       "    </tr>\n",
       "    <tr>\n",
       "      <th>166</th>\n",
       "      <td>45.84</td>\n",
       "      <td>4.44</td>\n",
       "      <td>16.56</td>\n",
       "      <td>9.12</td>\n",
       "    </tr>\n",
       "    <tr>\n",
       "      <th>167</th>\n",
       "      <td>113.04</td>\n",
       "      <td>5.88</td>\n",
       "      <td>9.72</td>\n",
       "      <td>11.64</td>\n",
       "    </tr>\n",
       "    <tr>\n",
       "      <th>168</th>\n",
       "      <td>212.40</td>\n",
       "      <td>11.16</td>\n",
       "      <td>7.68</td>\n",
       "      <td>15.36</td>\n",
       "    </tr>\n",
       "    <tr>\n",
       "      <th>169</th>\n",
       "      <td>340.32</td>\n",
       "      <td>50.40</td>\n",
       "      <td>79.44</td>\n",
       "      <td>30.60</td>\n",
       "    </tr>\n",
       "    <tr>\n",
       "      <th>170</th>\n",
       "      <td>278.52</td>\n",
       "      <td>10.32</td>\n",
       "      <td>10.44</td>\n",
       "      <td>16.08</td>\n",
       "    </tr>\n",
       "  </tbody>\n",
       "</table>\n",
       "<p>171 rows × 4 columns</p>\n",
       "</div>"
      ],
      "text/plain": [
       "     youtube  facebook  newspaper  sales\n",
       "0      84.72     19.20      48.96  12.60\n",
       "1     351.48     33.96      51.84  25.68\n",
       "2     135.48     20.88      46.32  14.28\n",
       "3     116.64      1.80      36.00  11.52\n",
       "4     318.72     24.00       0.36  20.88\n",
       "..       ...       ...        ...    ...\n",
       "166    45.84      4.44      16.56   9.12\n",
       "167   113.04      5.88       9.72  11.64\n",
       "168   212.40     11.16       7.68  15.36\n",
       "169   340.32     50.40      79.44  30.60\n",
       "170   278.52     10.32      10.44  16.08\n",
       "\n",
       "[171 rows x 4 columns]"
      ]
     },
     "execution_count": 3,
     "metadata": {},
     "output_type": "execute_result"
    }
   ],
   "source": [
    "df"
   ]
  },
  {
   "cell_type": "code",
   "execution_count": 4,
   "id": "2fd95215",
   "metadata": {},
   "outputs": [
    {
     "data": {
      "text/html": [
       "<div>\n",
       "<style scoped>\n",
       "    .dataframe tbody tr th:only-of-type {\n",
       "        vertical-align: middle;\n",
       "    }\n",
       "\n",
       "    .dataframe tbody tr th {\n",
       "        vertical-align: top;\n",
       "    }\n",
       "\n",
       "    .dataframe thead th {\n",
       "        text-align: right;\n",
       "    }\n",
       "</style>\n",
       "<table border=\"1\" class=\"dataframe\">\n",
       "  <thead>\n",
       "    <tr style=\"text-align: right;\">\n",
       "      <th></th>\n",
       "      <th>youtube</th>\n",
       "      <th>facebook</th>\n",
       "      <th>newspaper</th>\n",
       "      <th>sales</th>\n",
       "    </tr>\n",
       "  </thead>\n",
       "  <tbody>\n",
       "    <tr>\n",
       "      <th>count</th>\n",
       "      <td>171.000000</td>\n",
       "      <td>171.000000</td>\n",
       "      <td>171.000000</td>\n",
       "      <td>171.000000</td>\n",
       "    </tr>\n",
       "    <tr>\n",
       "      <th>mean</th>\n",
       "      <td>178.021053</td>\n",
       "      <td>27.671579</td>\n",
       "      <td>35.240000</td>\n",
       "      <td>16.922807</td>\n",
       "    </tr>\n",
       "    <tr>\n",
       "      <th>std</th>\n",
       "      <td>102.449597</td>\n",
       "      <td>17.913532</td>\n",
       "      <td>24.902918</td>\n",
       "      <td>6.314608</td>\n",
       "    </tr>\n",
       "    <tr>\n",
       "      <th>min</th>\n",
       "      <td>0.840000</td>\n",
       "      <td>0.000000</td>\n",
       "      <td>0.360000</td>\n",
       "      <td>1.920000</td>\n",
       "    </tr>\n",
       "    <tr>\n",
       "      <th>25%</th>\n",
       "      <td>91.080000</td>\n",
       "      <td>11.700000</td>\n",
       "      <td>13.740000</td>\n",
       "      <td>12.540000</td>\n",
       "    </tr>\n",
       "    <tr>\n",
       "      <th>50%</th>\n",
       "      <td>179.760000</td>\n",
       "      <td>26.760000</td>\n",
       "      <td>31.080000</td>\n",
       "      <td>15.480000</td>\n",
       "    </tr>\n",
       "    <tr>\n",
       "      <th>75%</th>\n",
       "      <td>262.980000</td>\n",
       "      <td>43.680000</td>\n",
       "      <td>50.880000</td>\n",
       "      <td>20.820000</td>\n",
       "    </tr>\n",
       "    <tr>\n",
       "      <th>max</th>\n",
       "      <td>355.680000</td>\n",
       "      <td>59.520000</td>\n",
       "      <td>121.080000</td>\n",
       "      <td>32.400000</td>\n",
       "    </tr>\n",
       "  </tbody>\n",
       "</table>\n",
       "</div>"
      ],
      "text/plain": [
       "          youtube    facebook   newspaper       sales\n",
       "count  171.000000  171.000000  171.000000  171.000000\n",
       "mean   178.021053   27.671579   35.240000   16.922807\n",
       "std    102.449597   17.913532   24.902918    6.314608\n",
       "min      0.840000    0.000000    0.360000    1.920000\n",
       "25%     91.080000   11.700000   13.740000   12.540000\n",
       "50%    179.760000   26.760000   31.080000   15.480000\n",
       "75%    262.980000   43.680000   50.880000   20.820000\n",
       "max    355.680000   59.520000  121.080000   32.400000"
      ]
     },
     "execution_count": 4,
     "metadata": {},
     "output_type": "execute_result"
    }
   ],
   "source": [
    "df.describe()"
   ]
  },
  {
   "cell_type": "code",
   "execution_count": 5,
   "id": "e763a0ad",
   "metadata": {},
   "outputs": [],
   "source": [
    "import seaborn as sns"
   ]
  },
  {
   "cell_type": "code",
   "execution_count": 6,
   "id": "2bfb3368",
   "metadata": {},
   "outputs": [
    {
     "data": {
      "text/plain": [
       "<AxesSubplot: xlabel='youtube', ylabel='sales'>"
      ]
     },
     "execution_count": 6,
     "metadata": {},
     "output_type": "execute_result"
    },
    {
     "data": {
      "image/png": "[encoded data removed]",
      "text/plain": [
       "<Figure size 640x480 with 1 Axes>"
      ]
     },
     "metadata": {},
     "output_type": "display_data"
    }
   ],
   "source": [
    "sns.scatterplot(x=df['youtube'],y=df['sales'])"
   ]
  },
  {
   "cell_type": "code",
   "execution_count": 7,
   "id": "80b0e7e1",
   "metadata": {},
   "outputs": [
    {
     "data": {
      "text/plain": [
       "<AxesSubplot: xlabel='facebook', ylabel='sales'>"
      ]
     },
     "execution_count": 7,
     "metadata": {},
     "output_type": "execute_result"
    },
    {
     "data": {
      "image/png": "[encoded data removed]",
      "text/plain": [
       "<Figure size 640x480 with 1 Axes>"
      ]
     },
     "metadata": {},
     "output_type": "display_data"
    }
   ],
   "source": [
    "sns.scatterplot(x=df['facebook'],y=df['sales'])"
   ]
  },
  {
   "cell_type": "code",
   "execution_count": 8,
   "id": "792f1354",
   "metadata": {},
   "outputs": [
    {
     "data": {
      "text/plain": [
       "<AxesSubplot: xlabel='newspaper', ylabel='sales'>"
      ]
     },
     "execution_count": 8,
     "metadata": {},
     "output_type": "execute_result"
    },
    {
     "data": {
      "image/png": "[encoded data removed]",
      "text/plain": [
       "<Figure size 640x480 with 1 Axes>"
      ]
     },
     "metadata": {},
     "output_type": "display_data"
    }
   ],
   "source": [
    "sns.scatterplot(x=df['newspaper'],y=df['sales'])"
   ]
  },
  {
   "cell_type": "code",
   "execution_count": 9,
   "id": "7b7f2018",
   "metadata": {},
   "outputs": [
    {
     "data": {
      "text/plain": [
       "youtube      30441.60\n",
       "facebook      4731.84\n",
       "newspaper     6026.04\n",
       "sales         2893.80\n",
       "dtype: float64"
      ]
     },
     "execution_count": 9,
     "metadata": {},
     "output_type": "execute_result"
    }
   ],
   "source": [
    "df.sum()"
   ]
  },
  {
   "cell_type": "code",
   "execution_count": 10,
   "id": "d4efdf97",
   "metadata": {},
   "outputs": [],
   "source": [
    "import matplotlib.pyplot as plt"
   ]
  },
  {
   "cell_type": "code",
   "execution_count": 11,
   "id": "e5a325df",
   "metadata": {},
   "outputs": [
    {
     "data": {
      "text/plain": [
       "([<matplotlib.patches.Wedge at 0x1b6165f6950>,\n",
       "  <matplotlib.patches.Wedge at 0x1b6165f6d70>,\n",
       "  <matplotlib.patches.Wedge at 0x1b6165f71f0>],\n",
       " [Text(-0.753001840545898, 0.8018654676031948, 'youtube 74%'),\n",
       "  Text(0.30689027796121454, -1.0563230364300917, 'facebook 11%'),\n",
       "  Text(0.9801072140121813, -0.4993894763020948, 'newspape 15%')])"
      ]
     },
     "execution_count": 11,
     "metadata": {},
     "output_type": "execute_result"
    },
    {
     "data": {
      "image/png": "[encoded data removed]",
      "text/plain": [
       "<Figure size 640x480 with 1 Axes>"
      ]
     },
     "metadata": {},
     "output_type": "display_data"
    }
   ],
   "source": [
    "plt.pie(x=[74,11,15],labels=['youtube 74%','facebook 11%','newspape 15%'])"
   ]
  },
  {
   "cell_type": "markdown",
   "id": "7a863cf7",
   "metadata": {},
   "source": [
    "# Diagnostic Analysis"
   ]
  },
  {
   "cell_type": "markdown",
   "id": "5f7869f9",
   "metadata": {},
   "source": [
    "1. Based on the information that facebook is showing more increase in growth of sales \n",
    "   as comparison to youtube, so we can say that the majority of our target market is domestic\n",
    "\n",
    "2. Based on the information that facebook is showing more increase in growth of sales \n",
    "   as comparison to newspaper, so we can say that the majority of our target mark is young people."
   ]
  },
  {
   "cell_type": "markdown",
   "id": "98608a4c",
   "metadata": {},
   "source": [
    "# predictive Analysis"
   ]
  },
  {
   "cell_type": "code",
   "execution_count": 12,
   "id": "d9c969e2",
   "metadata": {},
   "outputs": [],
   "source": [
    "X=df.drop(columns=['sales'])  "
   ]
  },
  {
   "cell_type": "code",
   "execution_count": 13,
   "id": "8a62ce7a",
   "metadata": {},
   "outputs": [
    {
     "data": {
      "text/html": [
       "<div>\n",
       "<style scoped>\n",
       "    .dataframe tbody tr th:only-of-type {\n",
       "        vertical-align: middle;\n",
       "    }\n",
       "\n",
       "    .dataframe tbody tr th {\n",
       "        vertical-align: top;\n",
       "    }\n",
       "\n",
       "    .dataframe thead th {\n",
       "        text-align: right;\n",
       "    }\n",
       "</style>\n",
       "<table border=\"1\" class=\"dataframe\">\n",
       "  <thead>\n",
       "    <tr style=\"text-align: right;\">\n",
       "      <th></th>\n",
       "      <th>youtube</th>\n",
       "      <th>facebook</th>\n",
       "      <th>newspaper</th>\n",
       "    </tr>\n",
       "  </thead>\n",
       "  <tbody>\n",
       "    <tr>\n",
       "      <th>0</th>\n",
       "      <td>84.72</td>\n",
       "      <td>19.20</td>\n",
       "      <td>48.96</td>\n",
       "    </tr>\n",
       "    <tr>\n",
       "      <th>1</th>\n",
       "      <td>351.48</td>\n",
       "      <td>33.96</td>\n",
       "      <td>51.84</td>\n",
       "    </tr>\n",
       "    <tr>\n",
       "      <th>2</th>\n",
       "      <td>135.48</td>\n",
       "      <td>20.88</td>\n",
       "      <td>46.32</td>\n",
       "    </tr>\n",
       "    <tr>\n",
       "      <th>3</th>\n",
       "      <td>116.64</td>\n",
       "      <td>1.80</td>\n",
       "      <td>36.00</td>\n",
       "    </tr>\n",
       "    <tr>\n",
       "      <th>4</th>\n",
       "      <td>318.72</td>\n",
       "      <td>24.00</td>\n",
       "      <td>0.36</td>\n",
       "    </tr>\n",
       "    <tr>\n",
       "      <th>...</th>\n",
       "      <td>...</td>\n",
       "      <td>...</td>\n",
       "      <td>...</td>\n",
       "    </tr>\n",
       "    <tr>\n",
       "      <th>166</th>\n",
       "      <td>45.84</td>\n",
       "      <td>4.44</td>\n",
       "      <td>16.56</td>\n",
       "    </tr>\n",
       "    <tr>\n",
       "      <th>167</th>\n",
       "      <td>113.04</td>\n",
       "      <td>5.88</td>\n",
       "      <td>9.72</td>\n",
       "    </tr>\n",
       "    <tr>\n",
       "      <th>168</th>\n",
       "      <td>212.40</td>\n",
       "      <td>11.16</td>\n",
       "      <td>7.68</td>\n",
       "    </tr>\n",
       "    <tr>\n",
       "      <th>169</th>\n",
       "      <td>340.32</td>\n",
       "      <td>50.40</td>\n",
       "      <td>79.44</td>\n",
       "    </tr>\n",
       "    <tr>\n",
       "      <th>170</th>\n",
       "      <td>278.52</td>\n",
       "      <td>10.32</td>\n",
       "      <td>10.44</td>\n",
       "    </tr>\n",
       "  </tbody>\n",
       "</table>\n",
       "<p>171 rows × 3 columns</p>\n",
       "</div>"
      ],
      "text/plain": [
       "     youtube  facebook  newspaper\n",
       "0      84.72     19.20      48.96\n",
       "1     351.48     33.96      51.84\n",
       "2     135.48     20.88      46.32\n",
       "3     116.64      1.80      36.00\n",
       "4     318.72     24.00       0.36\n",
       "..       ...       ...        ...\n",
       "166    45.84      4.44      16.56\n",
       "167   113.04      5.88       9.72\n",
       "168   212.40     11.16       7.68\n",
       "169   340.32     50.40      79.44\n",
       "170   278.52     10.32      10.44\n",
       "\n",
       "[171 rows x 3 columns]"
      ]
     },
     "execution_count": 13,
     "metadata": {},
     "output_type": "execute_result"
    }
   ],
   "source": [
    "X"
   ]
  },
  {
   "cell_type": "code",
   "execution_count": 14,
   "id": "d103e05e",
   "metadata": {},
   "outputs": [],
   "source": [
    "y=df['sales']"
   ]
  },
  {
   "cell_type": "code",
   "execution_count": 26,
   "id": "661d7e0e",
   "metadata": {},
   "outputs": [
    {
     "data": {
      "text/plain": [
       "0      12.60\n",
       "1      25.68\n",
       "2      14.28\n",
       "3      11.52\n",
       "4      20.88\n",
       "       ...  \n",
       "166     9.12\n",
       "167    11.64\n",
       "168    15.36\n",
       "169    30.60\n",
       "170    16.08\n",
       "Name: sales, Length: 171, dtype: float64"
      ]
     },
     "execution_count": 26,
     "metadata": {},
     "output_type": "execute_result"
    }
   ],
   "source": [
    "y"
   ]
  },
  {
   "cell_type": "code",
   "execution_count": 16,
   "id": "73beb697",
   "metadata": {},
   "outputs": [],
   "source": [
    "from sklearn.model_selection import train_test_split"
   ]
  },
  {
   "cell_type": "code",
   "execution_count": 17,
   "id": "6a1ab43a",
   "metadata": {},
   "outputs": [],
   "source": [
    "X_train,X_test,y_train,y_test=train_test_split(X,y,test_size=0.2)"
   ]
  },
  {
   "cell_type": "code",
   "execution_count": 18,
   "id": "db405acb",
   "metadata": {},
   "outputs": [],
   "source": [
    "from sklearn.linear_model import LinearRegression"
   ]
  },
  {
   "cell_type": "code",
   "execution_count": 19,
   "id": "0b5b30e6",
   "metadata": {},
   "outputs": [],
   "source": [
    "mymodule=LinearRegression()"
   ]
  },
  {
   "cell_type": "code",
   "execution_count": 20,
   "id": "88a202d7",
   "metadata": {},
   "outputs": [
    {
     "data": {
      "text/html": [
       "<style>#sk-container-id-1 {color: black;background-color: white;}#sk-container-id-1 pre{padding: 0;}#sk-container-id-1 div.sk-toggleable {background-color: white;}#sk-container-id-1 label.sk-toggleable__label {cursor: pointer;display: block;width: 100%;margin-bottom: 0;padding: 0.3em;box-sizing: border-box;text-align: center;}#sk-container-id-1 label.sk-toggleable__label-arrow:before {content: \"▸\";float: left;margin-right: 0.25em;color: #696969;}#sk-container-id-1 label.sk-toggleable__label-arrow:hover:before {color: black;}#sk-container-id-1 div.sk-estimator:hover label.sk-toggleable__label-arrow:before {color: black;}#sk-container-id-1 div.sk-toggleable__content {max-height: 0;max-width: 0;overflow: hidden;text-align: left;background-color: #f0f8ff;}#sk-container-id-1 div.sk-toggleable__content pre {margin: 0.2em;color: black;border-radius: 0.25em;background-color: #f0f8ff;}#sk-container-id-1 input.sk-toggleable__control:checked~div.sk-toggleable__content {max-height: 200px;max-width: 100%;overflow: auto;}#sk-container-id-1 input.sk-toggleable__control:checked~label.sk-toggleable__label-arrow:before {content: \"▾\";}#sk-container-id-1 div.sk-estimator input.sk-toggleable__control:checked~label.sk-toggleable__label {background-color: #d4ebff;}#sk-container-id-1 div.sk-label input.sk-toggleable__control:checked~label.sk-toggleable__label {background-color: #d4ebff;}#sk-container-id-1 input.sk-hidden--visually {border: 0;clip: rect(1px 1px 1px 1px);clip: rect(1px, 1px, 1px, 1px);height: 1px;margin: -1px;overflow: hidden;padding: 0;position: absolute;width: 1px;}#sk-container-id-1 div.sk-estimator {font-family: monospace;background-color: #f0f8ff;border: 1px dotted black;border-radius: 0.25em;box-sizing: border-box;margin-bottom: 0.5em;}#sk-container-id-1 div.sk-estimator:hover {background-color: #d4ebff;}#sk-container-id-1 div.sk-parallel-item::after {content: \"\";width: 100%;border-bottom: 1px solid gray;flex-grow: 1;}#sk-container-id-1 div.sk-label:hover label.sk-toggleable__label {background-color: #d4ebff;}#sk-container-id-1 div.sk-serial::before {content: \"\";position: absolute;border-left: 1px solid gray;box-sizing: border-box;top: 0;bottom: 0;left: 50%;z-index: 0;}#sk-container-id-1 div.sk-serial {display: flex;flex-direction: column;align-items: center;background-color: white;padding-right: 0.2em;padding-left: 0.2em;position: relative;}#sk-container-id-1 div.sk-item {position: relative;z-index: 1;}#sk-container-id-1 div.sk-parallel {display: flex;align-items: stretch;justify-content: center;background-color: white;position: relative;}#sk-container-id-1 div.sk-item::before, #sk-container-id-1 div.sk-parallel-item::before {content: \"\";position: absolute;border-left: 1px solid gray;box-sizing: border-box;top: 0;bottom: 0;left: 50%;z-index: -1;}#sk-container-id-1 div.sk-parallel-item {display: flex;flex-direction: column;z-index: 1;position: relative;background-color: white;}#sk-container-id-1 div.sk-parallel-item:first-child::after {align-self: flex-end;width: 50%;}#sk-container-id-1 div.sk-parallel-item:last-child::after {align-self: flex-start;width: 50%;}#sk-container-id-1 div.sk-parallel-item:only-child::after {width: 0;}#sk-container-id-1 div.sk-dashed-wrapped {border: 1px dashed gray;margin: 0 0.4em 0.5em 0.4em;box-sizing: border-box;padding-bottom: 0.4em;background-color: white;}#sk-container-id-1 div.sk-label label {font-family: monospace;font-weight: bold;display: inline-block;line-height: 1.2em;}#sk-container-id-1 div.sk-label-container {text-align: center;}#sk-container-id-1 div.sk-container {/* jupyter's `normalize.less` sets `[hidden] { display: none; }` but bootstrap.min.css set `[hidden] { display: none !important; }` so we also need the `!important` here to be able to override the default hidden behavior on the sphinx rendered scikit-learn.org. See: https://github.com/scikit-learn/scikit-learn/issues/21755 */display: inline-block !important;position: relative;}#sk-container-id-1 div.sk-text-repr-fallback {display: none;}</style><div id=\"sk-container-id-1\" class=\"sk-top-container\"><div class=\"sk-text-repr-fallback\"><pre>LinearRegression()</pre><b>In a Jupyter environment, please rerun this cell to show the HTML representation or trust the notebook. <br />On GitHub, the HTML representation is unable to render, please try loading this page with nbviewer.org.</b></div><div class=\"sk-container\" hidden><div class=\"sk-item\"><div class=\"sk-estimator sk-toggleable\"><input class=\"sk-toggleable__control sk-hidden--visually\" id=\"sk-estimator-id-1\" type=\"checkbox\" checked><label for=\"sk-estimator-id-1\" class=\"sk-toggleable__label sk-toggleable__label-arrow\">LinearRegression</label><div class=\"sk-toggleable__content\"><pre>LinearRegression()</pre></div></div></div></div></div>"
      ],
      "text/plain": [
       "LinearRegression()"
      ]
     },
     "execution_count": 20,
     "metadata": {},
     "output_type": "execute_result"
    }
   ],
   "source": [
    "mymodule.fit(X_train,y_train)"
   ]
  },
  {
   "cell_type": "code",
   "execution_count": 21,
   "id": "3bad3cae",
   "metadata": {},
   "outputs": [],
   "source": [
    "y_pred=mymodule.predict(X_test)"
   ]
  },
  {
   "cell_type": "code",
   "execution_count": 22,
   "id": "c6a0fb05",
   "metadata": {},
   "outputs": [
    {
     "data": {
      "text/plain": [
       "array([15.66283325, 19.66889464, 24.45518599, 18.35782606, 14.53142475,\n",
       "       18.19986762, 14.13688211, 19.76393602, 11.56028129, 28.93100699,\n",
       "       22.1445039 , 16.73971725, 29.58532831, 18.6618218 , 18.64397166,\n",
       "       10.59917504, 15.46912903, 20.8291961 , 23.13809604, 24.69947956,\n",
       "       19.69306848, 20.82395036, 24.48575303, 21.35009417, 25.35698942,\n",
       "        5.53504173, 12.24231947, 12.98473568, 15.57321007, 23.05185031,\n",
       "       10.5657405 , 10.16189683, 21.86583569,  7.10462218, 19.58536512])"
      ]
     },
     "execution_count": 22,
     "metadata": {},
     "output_type": "execute_result"
    }
   ],
   "source": [
    "y_pred"
   ]
  },
  {
   "cell_type": "code",
   "execution_count": 23,
   "id": "b2fd77c5",
   "metadata": {},
   "outputs": [
    {
     "data": {
      "text/plain": [
       "34     16.80\n",
       "123    19.92\n",
       "10     25.80\n",
       "8      17.64\n",
       "38     16.08\n",
       "127    18.36\n",
       "59     15.48\n",
       "84     19.08\n",
       "109    11.52\n",
       "69     30.48\n",
       "112    23.04\n",
       "93     13.92\n",
       "146    32.40\n",
       "117    15.84\n",
       "125    18.72\n",
       "37     11.40\n",
       "67     14.04\n",
       "139    20.52\n",
       "104    23.52\n",
       "156    27.12\n",
       "149    14.16\n",
       "6      15.36\n",
       "25     24.24\n",
       "41     21.96\n",
       "26     28.44\n",
       "163     7.08\n",
       "115    13.68\n",
       "151    12.60\n",
       "21     13.68\n",
       "63     23.28\n",
       "15     10.20\n",
       "162    11.88\n",
       "164    23.52\n",
       "31      9.72\n",
       "66     20.28\n",
       "Name: sales, dtype: float64"
      ]
     },
     "execution_count": 23,
     "metadata": {},
     "output_type": "execute_result"
    }
   ],
   "source": [
    "y_test"
   ]
  },
  {
   "cell_type": "code",
   "execution_count": 24,
   "id": "d43faa8c",
   "metadata": {},
   "outputs": [],
   "source": [
    "from sklearn.metrics import r2_score"
   ]
  },
  {
   "cell_type": "code",
   "execution_count": 25,
   "id": "f939ad19",
   "metadata": {},
   "outputs": [
    {
     "name": "stdout",
     "output_type": "stream",
     "text": [
      "0.8959103187683627\n"
     ]
    }
   ],
   "source": [
    "print(r2_score(y_test,y_pred))"
   ]
  },
  {
   "cell_type": "markdown",
   "id": "10f87c99",
   "metadata": {},
   "source": [
    "This model predicts with 90% accuracy, There will be a higher chance of making the correct prediction if new data comes in in the future."
   ]
  },
  {
   "cell_type": "markdown",
   "id": "59f786d4",
   "metadata": {},
   "source": [
    "# prescriptive Analysis"
   ]
  },
  {
   "cell_type": "markdown",
   "id": "1d40bc45",
   "metadata": {},
   "source": [
    "1. Based on the prediction on the assumed data, wa can say that facebook is the plateform which is providing most of the    positive sales so most of the investment should be done on facebook marketing.\n",
    "2. Funds should be alotted in this order --> facebook, youtube, newspaper.\n",
    "3. Since facebook is more domestic oriented, the product should be more relatable with domestic customers."
   ]
  }
 ],
 "metadata": {
  "kernelspec": {
   "display_name": "Python 3 (ipykernel)",
   "language": "python",
   "name": "python3"
  },
  "language_info": {
   "codemirror_mode": {
    "name": "ipython",
    "version": 3
   },
   "file_extension": ".py",
   "mimetype": "text/x-python",
   "name": "python",
   "nbconvert_exporter": "python",
   "pygments_lexer": "ipython3",
   "version": "3.10.7"
  }
 },
 "nbformat": 4,
 "nbformat_minor": 5
}
